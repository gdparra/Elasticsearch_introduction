{
 "cells": [
  {
   "cell_type": "markdown",
   "metadata": {},
   "source": [
    "## Kibana Installation"
   ]
  },
  {
   "cell_type": "markdown",
   "metadata": {},
   "source": [
    "### Installing Kibana\n",
    "\n",
    "##### Kibana is an open source data visualization plugin for Elasticsearch. It provides visualization capabilities on top of the content indexed on an Elasticsearch cluster. Users can create bar, line and scatter plots, or pie charts and maps on top of large volumes of data. \n",
    "\n",
    "##### According to the official documentation, we must install Kibana only after installing Elasticsearch to ensure that the components depending on each product are in place."
   ]
  },
  {
   "cell_type": "code",
   "execution_count": null,
   "metadata": {},
   "outputs": [],
   "source": [
    "%%bash\n",
    "sudo apt install -y kibana"
   ]
  },
  {
   "cell_type": "markdown",
   "metadata": {},
   "source": [
    "##### Now we will change the permissions of a specific directory to prevent kibana from collisionin with x-pack."
   ]
  },
  {
   "cell_type": "code",
   "execution_count": null,
   "metadata": {},
   "outputs": [],
   "source": [
    "%%bash\n",
    "sudo chmod =rwx,g+s /usr/share/kibana/optimize/bundles"
   ]
  },
  {
   "cell_type": "markdown",
   "metadata": {},
   "source": [
    "### Edit Kibana's configuration file\n",
    "\n",
    "We would like to edit some of teh default configuration set in Kibana's configuration file to define our host's IP address which will be used for presenting the web interface on port 5601. The default IP is set to the one associated to localhost. Leaving this default seeting will not work. In addition, we need to provide kibana with the kibana's user credentials set previously."
   ]
  },
  {
   "cell_type": "code",
   "execution_count": null,
   "metadata": {},
   "outputs": [],
   "source": [
    "%%bash\n",
    "temp_ens3=$(ip addr show ens3 | grep -Po 'inet \\K[\\d.]+')\n",
    "sudo sed -i \"8iserver.host: $temp_ens3\" /etc/kibana/kibana.yml \n",
    "sudo sed -i '49ielasticsearch.username: \"kibana\"' /etc/kibana/kibana.yml \n",
    "sudo sed -i '50ielasticsearch.password: \"elasticsiem\"' /etc/kibana/kibana.yml "
   ]
  },
  {
   "cell_type": "markdown",
   "metadata": {},
   "source": [
    "### Start and enable Kibana"
   ]
  },
  {
   "cell_type": "code",
   "execution_count": null,
   "metadata": {},
   "outputs": [],
   "source": [
    "%%bash\n",
    "sudo systemctl enable kibana\n",
    "sudo systemctl start kibana"
   ]
  },
  {
   "cell_type": "markdown",
   "metadata": {},
   "source": [
    "##### Note: We encourage you to install additionall plugins such as Vega and Network using the commands below. Some of the ones stated in the following URL are still not available for our current Kibana version 7.2.0\n",
    "\n",
    "https://www.elastic.co/guide/en/kibana/current/known-plugins.html"
   ]
  },
  {
   "cell_type": "code",
   "execution_count": null,
   "metadata": {},
   "outputs": [],
   "source": [
    "#%%bash\n",
    "#sudo /usr/share/kibana/bin/kibana-plugin install https://github.com/nyurik/kibana-vega-vis/releases/download/v1.2.0/vega_vis-1.2.0--for-Kibana-6.2.4.zip --allow-root\n",
    "#sudo -u kibana /usr/share/kibana/bin/kibana-plugin install vega"
   ]
  },
  {
   "cell_type": "markdown",
   "metadata": {},
   "source": [
    "##### By default kibana presents it's web interface on port 5601. We will use a reverse proxy to forward traffic to port 80. To achieve this, we must first install NGINS and set it as our reverse proxy."
   ]
  },
  {
   "cell_type": "code",
   "execution_count": 1,
   "metadata": {},
   "outputs": [
    {
     "name": "stdout",
     "output_type": "stream",
     "text": [
      "Reading package lists...\n",
      "Building dependency tree...\n",
      "Reading state information...\n",
      "The following additional packages will be installed:\n",
      "  fontconfig-config fonts-dejavu-core libfontconfig1 libgd3 libjbig0\n",
      "  libjpeg-turbo8 libjpeg8 libnginx-mod-http-geoip\n",
      "  libnginx-mod-http-image-filter libnginx-mod-http-xslt-filter\n",
      "  libnginx-mod-mail libnginx-mod-stream libtiff5 libwebp6 libxpm4 nginx-common\n",
      "  nginx-core\n",
      "Suggested packages:\n",
      "  libgd-tools fcgiwrap nginx-doc ssl-cert\n",
      "The following NEW packages will be installed:\n",
      "  fontconfig-config fonts-dejavu-core libfontconfig1 libgd3 libjbig0\n",
      "  libjpeg-turbo8 libjpeg8 libnginx-mod-http-geoip\n",
      "  libnginx-mod-http-image-filter libnginx-mod-http-xslt-filter\n",
      "  libnginx-mod-mail libnginx-mod-stream libtiff5 libwebp6 libxpm4 nginx\n",
      "  nginx-common nginx-core\n",
      "0 upgraded, 18 newly installed, 0 to remove and 3 not upgraded.\n",
      "Need to get 2461 kB of archives.\n",
      "After this operation, 8202 kB of additional disk space will be used.\n",
      "Get:1 http://archive.ubuntu.com/ubuntu bionic-updates/main amd64 libjpeg-turbo8 amd64 1.5.2-0ubuntu5.18.04.1 [110 kB]\n",
      "Get:2 http://archive.ubuntu.com/ubuntu bionic/main amd64 fonts-dejavu-core all 2.37-1 [1041 kB]\n",
      "Get:3 http://archive.ubuntu.com/ubuntu bionic/main amd64 fontconfig-config all 2.12.6-0ubuntu2 [55.8 kB]\n",
      "Get:4 http://archive.ubuntu.com/ubuntu bionic/main amd64 libfontconfig1 amd64 2.12.6-0ubuntu2 [137 kB]\n",
      "Get:5 http://archive.ubuntu.com/ubuntu bionic/main amd64 libjpeg8 amd64 8c-2ubuntu8 [2194 B]\n",
      "Get:6 http://archive.ubuntu.com/ubuntu bionic/main amd64 libjbig0 amd64 2.1-3.1build1 [26.7 kB]\n",
      "Get:7 http://archive.ubuntu.com/ubuntu bionic-updates/main amd64 libtiff5 amd64 4.0.9-5ubuntu0.2 [153 kB]\n",
      "Get:8 http://archive.ubuntu.com/ubuntu bionic/main amd64 libwebp6 amd64 0.6.1-2 [185 kB]\n",
      "Get:9 http://archive.ubuntu.com/ubuntu bionic/main amd64 libxpm4 amd64 1:3.5.12-1 [34.0 kB]\n",
      "Get:10 http://archive.ubuntu.com/ubuntu bionic-updates/main amd64 libgd3 amd64 2.2.5-4ubuntu0.3 [119 kB]\n",
      "Get:11 http://archive.ubuntu.com/ubuntu bionic-updates/main amd64 nginx-common all 1.14.0-0ubuntu1.3 [37.4 kB]\n",
      "Get:12 http://archive.ubuntu.com/ubuntu bionic-updates/main amd64 libnginx-mod-http-geoip amd64 1.14.0-0ubuntu1.3 [11.2 kB]\n",
      "Get:13 http://archive.ubuntu.com/ubuntu bionic-updates/main amd64 libnginx-mod-http-image-filter amd64 1.14.0-0ubuntu1.3 [14.6 kB]\n",
      "Get:14 http://archive.ubuntu.com/ubuntu bionic-updates/main amd64 libnginx-mod-http-xslt-filter amd64 1.14.0-0ubuntu1.3 [13.0 kB]\n",
      "Get:15 http://archive.ubuntu.com/ubuntu bionic-updates/main amd64 libnginx-mod-mail amd64 1.14.0-0ubuntu1.3 [41.9 kB]\n",
      "Get:16 http://archive.ubuntu.com/ubuntu bionic-updates/main amd64 libnginx-mod-stream amd64 1.14.0-0ubuntu1.3 [63.7 kB]\n",
      "Get:17 http://archive.ubuntu.com/ubuntu bionic-updates/main amd64 nginx-core amd64 1.14.0-0ubuntu1.3 [412 kB]\n",
      "Get:18 http://archive.ubuntu.com/ubuntu bionic-updates/main amd64 nginx all 1.14.0-0ubuntu1.3 [3596 B]\n",
      "Fetched 2461 kB in 3s (944 kB/s)\n",
      "Selecting previously unselected package libjpeg-turbo8:amd64.\n",
      "(Reading database ... 180847 files and directories currently installed.)\n",
      "Preparing to unpack .../00-libjpeg-turbo8_1.5.2-0ubuntu5.18.04.1_amd64.deb ...\n",
      "Unpacking libjpeg-turbo8:amd64 (1.5.2-0ubuntu5.18.04.1) ...\n",
      "Selecting previously unselected package fonts-dejavu-core.\n",
      "Preparing to unpack .../01-fonts-dejavu-core_2.37-1_all.deb ...\n",
      "Unpacking fonts-dejavu-core (2.37-1) ...\n",
      "Selecting previously unselected package fontconfig-config.\n",
      "Preparing to unpack .../02-fontconfig-config_2.12.6-0ubuntu2_all.deb ...\n",
      "Unpacking fontconfig-config (2.12.6-0ubuntu2) ...\n",
      "Selecting previously unselected package libfontconfig1:amd64.\n",
      "Preparing to unpack .../03-libfontconfig1_2.12.6-0ubuntu2_amd64.deb ...\n",
      "Unpacking libfontconfig1:amd64 (2.12.6-0ubuntu2) ...\n",
      "Selecting previously unselected package libjpeg8:amd64.\n",
      "Preparing to unpack .../04-libjpeg8_8c-2ubuntu8_amd64.deb ...\n",
      "Unpacking libjpeg8:amd64 (8c-2ubuntu8) ...\n",
      "Selecting previously unselected package libjbig0:amd64.\n",
      "Preparing to unpack .../05-libjbig0_2.1-3.1build1_amd64.deb ...\n",
      "Unpacking libjbig0:amd64 (2.1-3.1build1) ...\n",
      "Selecting previously unselected package libtiff5:amd64.\n",
      "Preparing to unpack .../06-libtiff5_4.0.9-5ubuntu0.2_amd64.deb ...\n",
      "Unpacking libtiff5:amd64 (4.0.9-5ubuntu0.2) ...\n",
      "Selecting previously unselected package libwebp6:amd64.\n",
      "Preparing to unpack .../07-libwebp6_0.6.1-2_amd64.deb ...\n",
      "Unpacking libwebp6:amd64 (0.6.1-2) ...\n",
      "Selecting previously unselected package libxpm4:amd64.\n",
      "Preparing to unpack .../08-libxpm4_1%3a3.5.12-1_amd64.deb ...\n",
      "Unpacking libxpm4:amd64 (1:3.5.12-1) ...\n",
      "Selecting previously unselected package libgd3:amd64.\n",
      "Preparing to unpack .../09-libgd3_2.2.5-4ubuntu0.3_amd64.deb ...\n",
      "Unpacking libgd3:amd64 (2.2.5-4ubuntu0.3) ...\n",
      "Selecting previously unselected package nginx-common.\n",
      "Preparing to unpack .../10-nginx-common_1.14.0-0ubuntu1.3_all.deb ...\n",
      "Unpacking nginx-common (1.14.0-0ubuntu1.3) ...\n",
      "Selecting previously unselected package libnginx-mod-http-geoip.\n",
      "Preparing to unpack .../11-libnginx-mod-http-geoip_1.14.0-0ubuntu1.3_amd64.deb ...\n",
      "Unpacking libnginx-mod-http-geoip (1.14.0-0ubuntu1.3) ...\n",
      "Selecting previously unselected package libnginx-mod-http-image-filter.\n",
      "Preparing to unpack .../12-libnginx-mod-http-image-filter_1.14.0-0ubuntu1.3_amd64.deb ...\n",
      "Unpacking libnginx-mod-http-image-filter (1.14.0-0ubuntu1.3) ...\n",
      "Selecting previously unselected package libnginx-mod-http-xslt-filter.\n",
      "Preparing to unpack .../13-libnginx-mod-http-xslt-filter_1.14.0-0ubuntu1.3_amd64.deb ...\n",
      "Unpacking libnginx-mod-http-xslt-filter (1.14.0-0ubuntu1.3) ...\n",
      "Selecting previously unselected package libnginx-mod-mail.\n",
      "Preparing to unpack .../14-libnginx-mod-mail_1.14.0-0ubuntu1.3_amd64.deb ...\n",
      "Unpacking libnginx-mod-mail (1.14.0-0ubuntu1.3) ...\n",
      "Selecting previously unselected package libnginx-mod-stream.\n",
      "Preparing to unpack .../15-libnginx-mod-stream_1.14.0-0ubuntu1.3_amd64.deb ...\n",
      "Unpacking libnginx-mod-stream (1.14.0-0ubuntu1.3) ...\n",
      "Selecting previously unselected package nginx-core.\n",
      "Preparing to unpack .../16-nginx-core_1.14.0-0ubuntu1.3_amd64.deb ...\n",
      "Unpacking nginx-core (1.14.0-0ubuntu1.3) ...\n",
      "Selecting previously unselected package nginx.\n",
      "Preparing to unpack .../17-nginx_1.14.0-0ubuntu1.3_all.deb ...\n",
      "Unpacking nginx (1.14.0-0ubuntu1.3) ...\n",
      "Processing triggers for ufw (0.36-0ubuntu0.18.04.1) ...\n",
      "Rules updated for profile 'Nginx Full'\n",
      "Firewall reloaded\n",
      "Processing triggers for ureadahead (0.100.0-21) ...\n",
      "Setting up libjbig0:amd64 (2.1-3.1build1) ...\n",
      "Setting up fonts-dejavu-core (2.37-1) ...\n",
      "Setting up nginx-common (1.14.0-0ubuntu1.3) ...\n",
      "Setting up libjpeg-turbo8:amd64 (1.5.2-0ubuntu5.18.04.1) ...\n",
      "Processing triggers for libc-bin (2.27-3ubuntu1) ...\n",
      "Processing triggers for systemd (237-3ubuntu10.24) ...\n",
      "Setting up libnginx-mod-mail (1.14.0-0ubuntu1.3) ...\n",
      "Setting up libxpm4:amd64 (1:3.5.12-1) ...\n",
      "Processing triggers for man-db (2.8.3-2ubuntu0.1) ...\n",
      "Setting up libnginx-mod-http-xslt-filter (1.14.0-0ubuntu1.3) ...\n",
      "Setting up libnginx-mod-http-geoip (1.14.0-0ubuntu1.3) ...\n",
      "Setting up libwebp6:amd64 (0.6.1-2) ...\n",
      "Setting up libjpeg8:amd64 (8c-2ubuntu8) ...\n",
      "Setting up fontconfig-config (2.12.6-0ubuntu2) ...\n",
      "Setting up libnginx-mod-stream (1.14.0-0ubuntu1.3) ...\n",
      "Setting up libtiff5:amd64 (4.0.9-5ubuntu0.2) ...\n",
      "Setting up libfontconfig1:amd64 (2.12.6-0ubuntu2) ...\n",
      "Setting up libgd3:amd64 (2.2.5-4ubuntu0.3) ...\n",
      "Setting up libnginx-mod-http-image-filter (1.14.0-0ubuntu1.3) ...\n",
      "Setting up nginx-core (1.14.0-0ubuntu1.3) ...\n",
      "Job for nginx.service failed because the control process exited with error code.\n",
      "See \"systemctl status nginx.service\" and \"journalctl -xe\" for details.\n",
      "invoke-rc.d: initscript nginx, action \"start\" failed.\n",
      "\u001b[0;1;31m●\u001b[0m nginx.service - A high performance web server and a reverse proxy server\n",
      "   Loaded: loaded (/lib/systemd/system/nginx.service; enabled; vendor preset: enabled)\n",
      "   Active: \u001b[0;1;31mfailed\u001b[0m (Result: exit-code) since Sat 2019-07-27 05:12:06 UTC; 9ms ago\n",
      "     Docs: man:nginx(8)\n",
      "  Process: 1904 ExecStartPre=/usr/sbin/nginx -t -q -g daemon on; master_process on; \u001b[0;1;31m(code=exited, status=1/FAILURE)\u001b[0m\n",
      " Main PID: 865 (code=exited, status=0/SUCCESS)\n",
      "\n",
      "Jul 27 05:12:06 elastic-siem-test04 systemd[1]: Starting A high performance web server and a reverse proxy server...\n",
      "Jul 27 05:12:06 elastic-siem-test04 nginx[1904]: nginx: [emerg] open() \"/etc/nginx/nginx.conf\" failed (2: No such file or directory)\n",
      "Jul 27 05:12:06 elastic-siem-test04 nginx[1904]: nginx: configuration file /etc/nginx/nginx.conf test failed\n",
      "Jul 27 05:12:06 elastic-siem-test04 systemd[1]: \u001b[0;1;39m\u001b[0;1;31m\u001b[0;1;39mnginx.service: Control process exited, code=exited status=1\u001b[0m\n",
      "Jul 27 05:12:06 elastic-siem-test04 systemd[1]: \u001b[0;1;39m\u001b[0;1;31m\u001b[0;1;39mnginx.service: Failed with result 'exit-code'.\u001b[0m\n",
      "Jul 27 05:12:06 elastic-siem-test04 systemd[1]: \u001b[0;1;31m\u001b[0;1;39m\u001b[0;1;31mFailed to start A high performance web server and a reverse proxy server.\u001b[0m\n",
      "dpkg: error processing package nginx-core (--configure):\n",
      " installed nginx-core package post-installation script subprocess returned error exit status 1\n",
      "dpkg: dependency problems prevent configuration of nginx:\n",
      " nginx depends on nginx-core (<< 1.14.0-0ubuntu1.3.1~) | nginx-full (<< 1.14.0-0ubuntu1.3.1~) | nginx-light (<< 1.14.0-0ubuntu1.3.1~) | nginx-extras (<< 1.14.0-0ubuntu1.3.1~); however:\n",
      "  Package nginx-core is not configured yet.\n",
      "  Package nginx-full is not installed.\n",
      "  Package nginx-light is not installed.\n",
      "  Package nginx-extras is not installed.\n",
      " nginx depends on nginx-core (>= 1.14.0-0ubuntu1.3) | nginx-full (>= 1.14.0-0ubuntu1.3) | nginx-light (>= 1.14.0-0ubuntu1.3) | nginx-extras (>= 1.14.0-0ubuntu1.3); however:\n",
      "  Package nginx-core is not configured yet.\n",
      "  Package nginx-full is not installed.\n",
      "  Package nginx-light is not installed.\n",
      "  Package nginx-extras is not installed.\n",
      "\n",
      "dpkg: error processing package nginx (--configure):\n",
      " dependency problems - leaving unconfigured\n",
      "Processing triggers for libc-bin (2.27-3ubuntu1) ...\n",
      "Errors were encountered while processing:\n",
      " nginx-core\n",
      " nginx\n"
     ]
    },
    {
     "name": "stderr",
     "output_type": "stream",
     "text": [
      "\n",
      "WARNING: apt does not have a stable CLI interface. Use with caution in scripts.\n",
      "\n",
      "dpkg-preconfigure: unable to re-open stdin: No such file or directory\n",
      "No apport report written because the error message indicates its a followup error from a previous failure.\n",
      "E: Sub-process /usr/bin/dpkg returned an error code (1)\n"
     ]
    },
    {
     "ename": "CalledProcessError",
     "evalue": "Command 'b'sudo apt install -y -q nginx\\n'' returned non-zero exit status 100.",
     "output_type": "error",
     "traceback": [
      "\u001b[0;31m---------------------------------------------------------------------------\u001b[0m",
      "\u001b[0;31mCalledProcessError\u001b[0m                        Traceback (most recent call last)",
      "\u001b[0;32m<ipython-input-1-2f43d6b70e44>\u001b[0m in \u001b[0;36m<module>\u001b[0;34m\u001b[0m\n\u001b[0;32m----> 1\u001b[0;31m \u001b[0mget_ipython\u001b[0m\u001b[0;34m(\u001b[0m\u001b[0;34m)\u001b[0m\u001b[0;34m.\u001b[0m\u001b[0mrun_cell_magic\u001b[0m\u001b[0;34m(\u001b[0m\u001b[0;34m'bash'\u001b[0m\u001b[0;34m,\u001b[0m \u001b[0;34m''\u001b[0m\u001b[0;34m,\u001b[0m \u001b[0;34m'sudo apt install -y -q nginx\\n'\u001b[0m\u001b[0;34m)\u001b[0m\u001b[0;34m\u001b[0m\u001b[0;34m\u001b[0m\u001b[0m\n\u001b[0m",
      "\u001b[0;32m~/.local/lib/python3.6/site-packages/IPython/core/interactiveshell.py\u001b[0m in \u001b[0;36mrun_cell_magic\u001b[0;34m(self, magic_name, line, cell)\u001b[0m\n\u001b[1;32m   2356\u001b[0m             \u001b[0;32mwith\u001b[0m \u001b[0mself\u001b[0m\u001b[0;34m.\u001b[0m\u001b[0mbuiltin_trap\u001b[0m\u001b[0;34m:\u001b[0m\u001b[0;34m\u001b[0m\u001b[0;34m\u001b[0m\u001b[0m\n\u001b[1;32m   2357\u001b[0m                 \u001b[0margs\u001b[0m \u001b[0;34m=\u001b[0m \u001b[0;34m(\u001b[0m\u001b[0mmagic_arg_s\u001b[0m\u001b[0;34m,\u001b[0m \u001b[0mcell\u001b[0m\u001b[0;34m)\u001b[0m\u001b[0;34m\u001b[0m\u001b[0;34m\u001b[0m\u001b[0m\n\u001b[0;32m-> 2358\u001b[0;31m                 \u001b[0mresult\u001b[0m \u001b[0;34m=\u001b[0m \u001b[0mfn\u001b[0m\u001b[0;34m(\u001b[0m\u001b[0;34m*\u001b[0m\u001b[0margs\u001b[0m\u001b[0;34m,\u001b[0m \u001b[0;34m**\u001b[0m\u001b[0mkwargs\u001b[0m\u001b[0;34m)\u001b[0m\u001b[0;34m\u001b[0m\u001b[0;34m\u001b[0m\u001b[0m\n\u001b[0m\u001b[1;32m   2359\u001b[0m             \u001b[0;32mreturn\u001b[0m \u001b[0mresult\u001b[0m\u001b[0;34m\u001b[0m\u001b[0;34m\u001b[0m\u001b[0m\n\u001b[1;32m   2360\u001b[0m \u001b[0;34m\u001b[0m\u001b[0m\n",
      "\u001b[0;32m~/.local/lib/python3.6/site-packages/IPython/core/magics/script.py\u001b[0m in \u001b[0;36mnamed_script_magic\u001b[0;34m(line, cell)\u001b[0m\n\u001b[1;32m    140\u001b[0m             \u001b[0;32melse\u001b[0m\u001b[0;34m:\u001b[0m\u001b[0;34m\u001b[0m\u001b[0;34m\u001b[0m\u001b[0m\n\u001b[1;32m    141\u001b[0m                 \u001b[0mline\u001b[0m \u001b[0;34m=\u001b[0m \u001b[0mscript\u001b[0m\u001b[0;34m\u001b[0m\u001b[0;34m\u001b[0m\u001b[0m\n\u001b[0;32m--> 142\u001b[0;31m             \u001b[0;32mreturn\u001b[0m \u001b[0mself\u001b[0m\u001b[0;34m.\u001b[0m\u001b[0mshebang\u001b[0m\u001b[0;34m(\u001b[0m\u001b[0mline\u001b[0m\u001b[0;34m,\u001b[0m \u001b[0mcell\u001b[0m\u001b[0;34m)\u001b[0m\u001b[0;34m\u001b[0m\u001b[0;34m\u001b[0m\u001b[0m\n\u001b[0m\u001b[1;32m    143\u001b[0m \u001b[0;34m\u001b[0m\u001b[0m\n\u001b[1;32m    144\u001b[0m         \u001b[0;31m# write a basic docstring:\u001b[0m\u001b[0;34m\u001b[0m\u001b[0;34m\u001b[0m\u001b[0;34m\u001b[0m\u001b[0m\n",
      "\u001b[0;32m</home/ubuntu/.local/lib/python3.6/site-packages/decorator.py:decorator-gen-110>\u001b[0m in \u001b[0;36mshebang\u001b[0;34m(self, line, cell)\u001b[0m\n",
      "\u001b[0;32m~/.local/lib/python3.6/site-packages/IPython/core/magic.py\u001b[0m in \u001b[0;36m<lambda>\u001b[0;34m(f, *a, **k)\u001b[0m\n\u001b[1;32m    185\u001b[0m     \u001b[0;31m# but it's overkill for just that one bit of state.\u001b[0m\u001b[0;34m\u001b[0m\u001b[0;34m\u001b[0m\u001b[0;34m\u001b[0m\u001b[0m\n\u001b[1;32m    186\u001b[0m     \u001b[0;32mdef\u001b[0m \u001b[0mmagic_deco\u001b[0m\u001b[0;34m(\u001b[0m\u001b[0marg\u001b[0m\u001b[0;34m)\u001b[0m\u001b[0;34m:\u001b[0m\u001b[0;34m\u001b[0m\u001b[0;34m\u001b[0m\u001b[0m\n\u001b[0;32m--> 187\u001b[0;31m         \u001b[0mcall\u001b[0m \u001b[0;34m=\u001b[0m \u001b[0;32mlambda\u001b[0m \u001b[0mf\u001b[0m\u001b[0;34m,\u001b[0m \u001b[0;34m*\u001b[0m\u001b[0ma\u001b[0m\u001b[0;34m,\u001b[0m \u001b[0;34m**\u001b[0m\u001b[0mk\u001b[0m\u001b[0;34m:\u001b[0m \u001b[0mf\u001b[0m\u001b[0;34m(\u001b[0m\u001b[0;34m*\u001b[0m\u001b[0ma\u001b[0m\u001b[0;34m,\u001b[0m \u001b[0;34m**\u001b[0m\u001b[0mk\u001b[0m\u001b[0;34m)\u001b[0m\u001b[0;34m\u001b[0m\u001b[0;34m\u001b[0m\u001b[0m\n\u001b[0m\u001b[1;32m    188\u001b[0m \u001b[0;34m\u001b[0m\u001b[0m\n\u001b[1;32m    189\u001b[0m         \u001b[0;32mif\u001b[0m \u001b[0mcallable\u001b[0m\u001b[0;34m(\u001b[0m\u001b[0marg\u001b[0m\u001b[0;34m)\u001b[0m\u001b[0;34m:\u001b[0m\u001b[0;34m\u001b[0m\u001b[0;34m\u001b[0m\u001b[0m\n",
      "\u001b[0;32m~/.local/lib/python3.6/site-packages/IPython/core/magics/script.py\u001b[0m in \u001b[0;36mshebang\u001b[0;34m(self, line, cell)\u001b[0m\n\u001b[1;32m    243\u001b[0m             \u001b[0msys\u001b[0m\u001b[0;34m.\u001b[0m\u001b[0mstderr\u001b[0m\u001b[0;34m.\u001b[0m\u001b[0mflush\u001b[0m\u001b[0;34m(\u001b[0m\u001b[0;34m)\u001b[0m\u001b[0;34m\u001b[0m\u001b[0;34m\u001b[0m\u001b[0m\n\u001b[1;32m    244\u001b[0m         \u001b[0;32mif\u001b[0m \u001b[0margs\u001b[0m\u001b[0;34m.\u001b[0m\u001b[0mraise_error\u001b[0m \u001b[0;32mand\u001b[0m \u001b[0mp\u001b[0m\u001b[0;34m.\u001b[0m\u001b[0mreturncode\u001b[0m\u001b[0;34m!=\u001b[0m\u001b[0;36m0\u001b[0m\u001b[0;34m:\u001b[0m\u001b[0;34m\u001b[0m\u001b[0;34m\u001b[0m\u001b[0m\n\u001b[0;32m--> 245\u001b[0;31m             \u001b[0;32mraise\u001b[0m \u001b[0mCalledProcessError\u001b[0m\u001b[0;34m(\u001b[0m\u001b[0mp\u001b[0m\u001b[0;34m.\u001b[0m\u001b[0mreturncode\u001b[0m\u001b[0;34m,\u001b[0m \u001b[0mcell\u001b[0m\u001b[0;34m,\u001b[0m \u001b[0moutput\u001b[0m\u001b[0;34m=\u001b[0m\u001b[0mout\u001b[0m\u001b[0;34m,\u001b[0m \u001b[0mstderr\u001b[0m\u001b[0;34m=\u001b[0m\u001b[0merr\u001b[0m\u001b[0;34m)\u001b[0m\u001b[0;34m\u001b[0m\u001b[0;34m\u001b[0m\u001b[0m\n\u001b[0m\u001b[1;32m    246\u001b[0m \u001b[0;34m\u001b[0m\u001b[0m\n\u001b[1;32m    247\u001b[0m     \u001b[0;32mdef\u001b[0m \u001b[0m_run_script\u001b[0m\u001b[0;34m(\u001b[0m\u001b[0mself\u001b[0m\u001b[0;34m,\u001b[0m \u001b[0mp\u001b[0m\u001b[0;34m,\u001b[0m \u001b[0mcell\u001b[0m\u001b[0;34m,\u001b[0m \u001b[0mto_close\u001b[0m\u001b[0;34m)\u001b[0m\u001b[0;34m:\u001b[0m\u001b[0;34m\u001b[0m\u001b[0;34m\u001b[0m\u001b[0m\n",
      "\u001b[0;31mCalledProcessError\u001b[0m: Command 'b'sudo apt install -y -q nginx\\n'' returned non-zero exit status 100."
     ]
    }
   ],
   "source": [
    "%%bash\n",
    "sudo apt install -y -q nginx"
   ]
  },
  {
   "cell_type": "markdown",
   "metadata": {},
   "source": [
    "### Seting up an Administrative kibana user using SSL\n",
    "\n",
    "##### We will start by creating an \"admin\" account using ssl. The command presented below will require a password and store it in the \"/etc/nginx/htpasswd.users\" directory. Type the following command in the terminal and confirm your passowrd\n",
    "\n",
    "~~~~\n",
    "echo \"admin:`openssl passwd -apr1`\" | sudo tee -a /etc/nginx/htpasswd.users\n",
    "~~~~\n",
    "\n",
    "##### We can verify if the password has been saved by checking the contents of the destination file using the following command:"
   ]
  },
  {
   "cell_type": "code",
   "execution_count": null,
   "metadata": {},
   "outputs": [],
   "source": [
    "%%bash\n",
    "sudo cat /etc/nginx/htpasswd.users"
   ]
  },
  {
   "cell_type": "markdown",
   "metadata": {},
   "source": [
    "### Configure NGINX\n",
    "\n",
    "NGINX cofinguration can be a little bit tricky; due to this, we will copy a template from the files directory and set your hostname and your local IP in its configuration file. This file is created in the \"etc/nginx/sites-available/\" directory but nothing will happen even after setting the configuration. We need to generate a symbolic link from the \"/etc/nginx/sites-available/nginx_proxy\" file into the \"/etc/nginx/sites-enabled/\" directory. NGINX will read the files in the sites-enabled make the setup according to the files in it."
   ]
  },
  {
   "cell_type": "code",
   "execution_count": 2,
   "metadata": {},
   "outputs": [
    {
     "name": "stdout",
     "output_type": "stream",
     "text": [
      "server {\n",
      "        listen 80 default_server;\n",
      "        listen [::]:80 default_server;\n",
      "        root /var/www/html;\n",
      "        index index.html index.htm index.nginx-debian.html;\n",
      "        server_name elastic-siem-test04;\n",
      "        auth_basic \"Restricted\";\n",
      "        auth_basic_user_file /etc/nginx/htpasswd.users;\n",
      "        location / {\n",
      "                proxy_pass http://10.1.1.14:5601/;\n",
      "        }\n",
      "}\n"
     ]
    },
    {
     "name": "stderr",
     "output_type": "stream",
     "text": [
      "bash: line 1: elastic-siem-test04=hostname: command not found\n"
     ]
    }
   ],
   "source": [
    "%%bash\n",
    "$HOSTNAME=hostname -f\n",
    "temp_ens3=$(ip addr show ens3 | grep -Po 'inet \\K[\\d.]+')\n",
    "\n",
    "sudo cp files/nginx_proxy /etc/nginx/sites-available/ \n",
    "\n",
    "sudo sed -i \"s/<YOUR-HOSTNAME-HERE>/$HOSTNAME/g\" /etc/nginx/sites-available/nginx_proxy\n",
    "sudo sed -i \"s/<YOUR-IP-HERE>/$temp_ens3/g\" /etc/nginx/sites-available/nginx_proxy\n",
    "\n",
    "sudo ln -s /etc/nginx/sites-available/nginx_proxy /etc/nginx/sites-enabled/nginx_proxy\n",
    "\n",
    "sudo cat /etc/nginx/sites-available/nginx_proxy"
   ]
  },
  {
   "cell_type": "markdown",
   "metadata": {},
   "source": [
    "### Start and Enable NGINX"
   ]
  },
  {
   "cell_type": "code",
   "execution_count": null,
   "metadata": {},
   "outputs": [],
   "source": [
    "%%bash\n",
    "sudo nginx -t\n",
    "sudo systemctl start nginx\n",
    "sudo systemctl enable nginx"
   ]
  },
  {
   "cell_type": "markdown",
   "metadata": {},
   "source": [
    "##### What is going on? Now we have Kibana in the following two sites?\n",
    "\n",
    "~~~~\n",
    "<YOUR-PUBLIC-IP>:<5601>\n",
    "<YOUR-PUBLIC-IP>:<80>\n",
    "~~~~\n",
    "\n",
    "##### It happens that the native authentication is provided by X-Pack which is disabled by default. X-Pack security and machine learning are platinum features that expire after 30 days (trial license). Once this expires, your system will be completly exposed unless you provide authentication as we did. In addition, we need to secure assitional endpoint such as the REST API from the external network. To do so, we will install firewall in our system.\n",
    "\n",
    "##### As an example you can check the status of your elasticsearch from your local computer using your credentials because port 9200 is open:\n",
    "\n",
    "~~~~\n",
    "curl -u elastic:elasticsiem -XGET <YOUR-PUBLIC-IP>:9200\n",
    "~~~~"
   ]
  },
  {
   "cell_type": "markdown",
   "metadata": {},
   "source": [
    "### Let set a local firewall.\n",
    "\n",
    "##### Since there are some services wide open (and there will be more) to any actor who makes a request to them, we must setup a firewall that restricts unwanted traffic by setting some simple rules. For this purpose we will use the UFW firewall that is already installed in Ubuntu 18.04.\n",
    "\n",
    "##### The following table presents the ports we are interested on:\n",
    "\n",
    "### PORTS of Interest\n",
    "\n",
    "| Port | Protocol | Application |\n",
    "|------|----------|-------------|\n",
    "| 22 | TCP | SSH |\n",
    "| 53 | UDP | DNS |\n",
    "| 80 | TCP | HTTP |\n",
    "| 443 | TCP | HTTPS |\n",
    "| 3128 | TCP | Python PIP |\n",
    "| 5044 | TCP | Logstash Listening Port |\n",
    "| 5601 | TCP | Kibana |\n",
    "| 9200 | TCP | Elasticsearch REST API |\n",
    "| 9300 | TCP | Elasticsearch Transport Module |\n",
    "| 9600 | TCP | Logstash Monitoring API\n",
    "\n",
    "##### The following table presents the rules we expect to set in our firewall:\n",
    "\n",
    "### Expected Firewall Rules\n",
    "\n",
    "| Number | To | Action | From |\n",
    "|--------|----|--------|------|\n",
    "|[ 1] |22/tcp                     |ALLOW IN    |Anywhere|                  \n",
    "|[ 2] |Nginx Full                 |ALLOW IN    |Anywhere|                  \n",
    "|[ 3] |80/tcp                     |ALLOW IN    |Anywhere|                  \n",
    "|[ 4] |8888/tcp                   |ALLOW IN    |Anywhere|                  \n",
    "|[ 5] |443                        |ALLOW IN    |Anywhere|                  \n",
    "|[ 6] |5044                       |DENY IN     |Anywhere|                  \n",
    "|[ 7] |5601                       |DENY IN     |Anywhere|                  \n",
    "|[ 8] |9200                       |DENY IN     |Anywhere|                  \n",
    "|[ 9] |9300                       |DENY IN     |Anywhere|                  \n",
    "|[10] |9600                       |DENY IN     |Anywhere|\n",
    "|[11] |53                         |ALLOW IN    |10.1.1.0/24|\n",
    "|[12] |3128                       |ALLOW IN    |Anywhere|\n",
    "\n",
    "##### Let us chech the current status of our internal firewall UFW."
   ]
  },
  {
   "cell_type": "code",
   "execution_count": null,
   "metadata": {},
   "outputs": [],
   "source": [
    "%%bash\n",
    "sudo ufw status"
   ]
  },
  {
   "cell_type": "markdown",
   "metadata": {},
   "source": [
    "##### We can observe that our firewall is currently inactive.\n",
    "##### By default, UFW is set to deny all incoming connections and allow all outgoing connections.\n",
    "\n",
    "### WARNING! You might get locked out of your system if you don't define some rules before enabling your firewall.\n",
    "\n",
    "##### Let us define some firewall rules of our interest in order to allow communication to go in and deny communication from going out through specific ports."
   ]
  },
  {
   "cell_type": "code",
   "execution_count": null,
   "metadata": {},
   "outputs": [],
   "source": [
    "%%bash\n",
    "sudo ufw allow ssh\n",
    "sudo ufw allow from 10.1.1.0/24 to any port 53\n",
    "sudo ufw allow 'Nginx Full'\n",
    "sudo ufw allow http/tcp\n",
    "sudo ufw allow 443\n",
    "sudo ufw allow 3128\n",
    "sudo ufw deny 5044\n",
    "sudo ufw deny 5601\n",
    "sudo ufw allow 8888/tcp\n",
    "sudo ufw deny 9200\n",
    "sudo ufw deny 9300\n",
    "sudo ufw deny 9600"
   ]
  },
  {
   "cell_type": "markdown",
   "metadata": {},
   "source": [
    "### Check the recently added rules"
   ]
  },
  {
   "cell_type": "code",
   "execution_count": null,
   "metadata": {},
   "outputs": [],
   "source": [
    "%%bash\n",
    "sudo ufw status\n",
    "sudo ufw show added"
   ]
  },
  {
   "cell_type": "markdown",
   "metadata": {},
   "source": [
    "### Enable your firewall\n",
    "\n",
    "##### Now that you have added new rules and validated that they have been set in our firewall, let us proceed to enable it with the following line:"
   ]
  },
  {
   "cell_type": "code",
   "execution_count": null,
   "metadata": {},
   "outputs": [],
   "source": [
    "%%bash\n",
    "sudo ufw enable"
   ]
  },
  {
   "cell_type": "markdown",
   "metadata": {},
   "source": [
    "### List the current active rules in your firewall using the following:"
   ]
  },
  {
   "cell_type": "code",
   "execution_count": null,
   "metadata": {},
   "outputs": [],
   "source": [
    "%%bash\n",
    "sudo ufw status numbered"
   ]
  },
  {
   "cell_type": "markdown",
   "metadata": {},
   "source": [
    "### We have now installed Elasticsearch, Kibana, and Secured our System using X-Pack Security and NGINX as a reverse proxy."
   ]
  }
 ],
 "metadata": {
  "kernelspec": {
   "display_name": "Python 3",
   "language": "python",
   "name": "python3"
  },
  "language_info": {
   "codemirror_mode": {
    "name": "ipython",
    "version": 3
   },
   "file_extension": ".py",
   "mimetype": "text/x-python",
   "name": "python",
   "nbconvert_exporter": "python",
   "pygments_lexer": "ipython3",
   "version": "3.6.8"
  }
 },
 "nbformat": 4,
 "nbformat_minor": 4
}
